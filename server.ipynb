{
  "cells": [
    {
      "cell_type": "markdown",
      "metadata": {
        "colab_type": "text",
        "id": "view-in-github"
      },
      "source": [
        "<a href=\"https://colab.research.google.com/github/fesiib/cs492g-hai-tutorial/blob/main/server.ipynb\" target=\"_parent\"><img src=\"https://colab.research.google.com/assets/colab-badge.svg\" alt=\"Open In Colab\"/></a>"
      ]
    },
    {
      "cell_type": "markdown",
      "metadata": {
        "id": "x21A6atVCU-u"
      },
      "source": [
        "# Designing your own sentiment analysis tool\n",
        "\n",
        "While there are a lot of tools that will automatically give us a sentiment of a piece of text, we learned that they don't always agree! Let's design our own to see both how these tools work internally, along with how we can test them to see how well they might perform.\n",
        "\n",
        "**I've cleaned the dataset up a bit.**"
      ]
    },
    {
      "cell_type": "markdown",
      "metadata": {
        "id": "86RQMeAmCU-y"
      },
      "source": [
        "<p class=\"reading-options\">\n",
        "  <a class=\"btn\" href=\"/investigating-sentiment-analysis/designing-your-own-sentiment-analysis-tool\">\n",
        "    <i class=\"fa fa-sm fa-book\"></i>\n",
        "    Read online\n",
        "  </a>\n",
        "  <a class=\"btn\" href=\"/investigating-sentiment-analysis/notebooks/Designing your own sentiment analysis tool.ipynb\">\n",
        "    <i class=\"fa fa-sm fa-download\"></i>\n",
        "    Download notebook\n",
        "  </a>\n",
        "  <a class=\"btn\" href=\"https://colab.research.google.com/github/littlecolumns/ds4j-notebooks/blob/master/investigating-sentiment-analysis/notebooks/Designing your own sentiment analysis tool.ipynb\" target=\"_new\">\n",
        "    <i class=\"fa fa-sm fa-laptop\"></i>\n",
        "    Interactive version\n",
        "  </a>\n",
        "</p>"
      ]
    },
    {
      "cell_type": "markdown",
      "metadata": {
        "id": "Lb_T07dtuxBA"
      },
      "source": []
    },
    {
      "cell_type": "markdown",
      "metadata": {
        "id": "5utnn0Y5CU-z"
      },
      "source": [
        "### Prep work: Downloading necessary files\n",
        "Before we get started, we need to download all of the data we'll be using.\n",
        "* **sentiment140-subset.csv:** cleaned subset of Sentiment140 data - half a million tweets marked as positive or negative\n"
      ]
    },
    {
      "cell_type": "code",
      "execution_count": null,
      "metadata": {
        "colab": {
          "base_uri": "https://localhost:8080/"
        },
        "id": "hX0Fj19wCU-z",
        "outputId": "947046e0-15be-469f-fc4e-0ebed8eb96fd"
      },
      "outputs": [],
      "source": [
        "# Make data directory if it doesn't exist\n",
        "!mkdir -p data\n",
        "!wget -nc https://nyc3.digitaloceanspaces.com/ml-files-distro/v1/investigating-sentiment-analysis/data/sentiment140-subset.csv.zip -P data\n",
        "!unzip -n -d data data/sentiment140-subset.csv.zip"
      ]
    },
    {
      "cell_type": "code",
      "execution_count": null,
      "metadata": {
        "colab": {
          "base_uri": "https://localhost:8080/"
        },
        "id": "hTkq-wQAtKCr",
        "outputId": "363dc694-9b23-4187-8bff-f5f51235bbd8"
      },
      "outputs": [],
      "source": [
        "%pip install statsmodels --upgrade"
      ]
    },
    {
      "cell_type": "code",
      "execution_count": null,
      "metadata": {
        "id": "uFO2U4Ovsa9c"
      },
      "outputs": [],
      "source": [
        "#Karishni test\n",
        "from statsmodels.stats.oaxaca import OaxacaBlinder"
      ]
    },
    {
      "cell_type": "code",
      "execution_count": null,
      "metadata": {
        "id": "HRJCofmFCU-z"
      },
      "outputs": [],
      "source": [
        "# !pip install sklearn"
      ]
    },
    {
      "cell_type": "markdown",
      "metadata": {
        "id": "TIgGimceCU-0"
      },
      "source": [
        "## Training on tweets\n",
        "\n",
        "Let's say we were going to analyze the sentiment of tweets. If we had a list of tweets that were scored positive vs. negative, we could see which words are usually associated with positive scores and which are usually associated with negative scores.\n",
        "\n",
        "Luckily, we have **Sentiment140** - http://help.sentiment140.com/for-students - a list of 1.6 million tweets along with a score as to whether they're negative or positive. We'll use it to build our own machine learning algorithm to see separate positivity from negativity.\n",
        "\n",
        "### Read in our data"
      ]
    },
    {
      "cell_type": "code",
      "execution_count": null,
      "metadata": {
        "colab": {
          "base_uri": "https://localhost:8080/",
          "height": 204
        },
        "id": "Ehh9NqVpCU-0",
        "outputId": "ce30d94c-e61a-4ae1-b06b-2e9a66b07ea6"
      },
      "outputs": [],
      "source": [
        "import pandas as pd\n",
        "\n",
        "df = pd.read_csv(\"data/sentiment140-subset.csv\", nrows=30000)\n",
        "df.head()"
      ]
    },
    {
      "cell_type": "markdown",
      "metadata": {
        "id": "QpgHoLzDCU-1"
      },
      "source": [
        "It isn't a very complicated dataset. `polarity` is whether it's positive or not, `text` is the text of the tweet itself.\n",
        "\n",
        "How many rows do we have?"
      ]
    },
    {
      "cell_type": "code",
      "execution_count": null,
      "metadata": {
        "colab": {
          "base_uri": "https://localhost:8080/"
        },
        "id": "5IdUrgFnCU-1",
        "outputId": "9941e8d1-7a56-44ad-fa90-8824701bef3f"
      },
      "outputs": [],
      "source": [
        "df.shape"
      ]
    },
    {
      "cell_type": "markdown",
      "metadata": {
        "id": "xKCKO7DMCU-1"
      },
      "source": [
        "How many **positive** tweets compared to how many **negative** tweets?"
      ]
    },
    {
      "cell_type": "code",
      "execution_count": null,
      "metadata": {
        "colab": {
          "base_uri": "https://localhost:8080/"
        },
        "id": "tQPyHYn-CU-1",
        "outputId": "3fe3091d-de52-46e7-f64a-04fa350bdb19"
      },
      "outputs": [],
      "source": [
        "df.polarity.value_counts()"
      ]
    },
    {
      "cell_type": "markdown",
      "metadata": {
        "id": "XXwAtdi3CU-2"
      },
      "source": [
        "## Train our algorithm\n"
      ]
    },
    {
      "cell_type": "markdown",
      "metadata": {
        "id": "a28I8VrgCU-2"
      },
      "source": [
        "### Vectorize our tweets\n",
        "\n",
        "Create a `TfidfVectorizer` and use it to vectorize our tweets. Since we don't have all the time in the world, we should probably use `max_features` to only take a selection of terms - how about 1000 for now?"
      ]
    },
    {
      "cell_type": "code",
      "execution_count": null,
      "metadata": {
        "id": "LpsITC2uCU-2"
      },
      "outputs": [],
      "source": [
        "from sklearn.feature_extraction.text import TfidfVectorizer"
      ]
    },
    {
      "cell_type": "code",
      "execution_count": null,
      "metadata": {
        "colab": {
          "base_uri": "https://localhost:8080/",
          "height": 253
        },
        "id": "ZLWOLATzCU-2",
        "outputId": "5404ebd4-c2f0-41d2-a01b-982c68d7db75"
      },
      "outputs": [],
      "source": [
        "vectorizer = TfidfVectorizer(max_features=1000)\n",
        "vectors = vectorizer.fit_transform(df.text)\n",
        "words_df = pd.DataFrame(vectors.toarray(), columns=vectorizer.get_feature_names_out())\n",
        "words_df.head()"
      ]
    },
    {
      "cell_type": "markdown",
      "metadata": {
        "id": "mBXiRCwHCU-2"
      },
      "source": [
        "### Setting up our variables\n",
        "\n",
        "Because we want to fit in with all the other progammers, we need to create two variables: one called `X` and one called `y`.\n",
        "\n",
        "`X` is all of our **features**, the things we use to predict positive or negative. That's going to be our words.\n",
        "\n",
        "`y` is all of our **labels**, the positive or negative rating. We'll use the `polarity` column for that."
      ]
    },
    {
      "cell_type": "code",
      "execution_count": null,
      "metadata": {
        "id": "nOnCzVLnCU-3"
      },
      "outputs": [],
      "source": [
        "X = words_df\n",
        "y = df.polarity"
      ]
    },
    {
      "cell_type": "markdown",
      "metadata": {
        "id": "Aof_lBaJCU-3"
      },
      "source": [
        "### Picking an algorithm\n",
        "\n",
        "What kind of algorithm do we want? Who knows, we don't know anything about machine learning! **Let's just pick ALL OF THEM.**"
      ]
    },
    {
      "cell_type": "code",
      "execution_count": null,
      "metadata": {
        "id": "_QPq0PK6CU-3"
      },
      "outputs": [],
      "source": [
        "from sklearn.linear_model import LinearRegression\n",
        "from sklearn.linear_model import LogisticRegression\n",
        "from sklearn.ensemble import RandomForestClassifier\n",
        "from sklearn.svm import LinearSVC\n",
        "from sklearn.naive_bayes import MultinomialNB"
      ]
    },
    {
      "cell_type": "markdown",
      "metadata": {
        "id": "ZDu-eKLwCU-3"
      },
      "source": [
        "### Training our algorithms\n",
        "\n",
        "When we teach our algorithm about what a positive or a negative tweet looks like, this is called **training**. Training can take different amounts of time based on what kind of algorithm you are using."
      ]
    },
    {
      "cell_type": "code",
      "execution_count": null,
      "metadata": {
        "id": "MQiphinXCU-3"
      },
      "outputs": [],
      "source": [
        "%%time\n",
        "# Create and train a logistic regression\n",
        "logreg = LogisticRegression(C=1e9, solver='lbfgs', max_iter=1000)\n",
        "logreg.fit(X, y)"
      ]
    },
    {
      "cell_type": "code",
      "execution_count": null,
      "metadata": {
        "colab": {
          "base_uri": "https://localhost:8080/"
        },
        "id": "zKQJIArPCU-4",
        "outputId": "f666cfd8-28a0-44e6-d84a-fce682c6fb29"
      },
      "outputs": [],
      "source": [
        "%%time\n",
        "# Create and train a random forest classifier\n",
        "forest = RandomForestClassifier(n_estimators=50)\n",
        "forest.fit(X, y)"
      ]
    },
    {
      "cell_type": "code",
      "execution_count": null,
      "metadata": {
        "colab": {
          "base_uri": "https://localhost:8080/"
        },
        "id": "7ShOTGh2CU-4",
        "outputId": "92c3f8ed-23b2-4866-c943-6da99880d333"
      },
      "outputs": [],
      "source": [
        "%%time\n",
        "# Create and train a linear support vector classifier (LinearSVC)\n",
        "svc = LinearSVC()\n",
        "svc.fit(X, y)"
      ]
    },
    {
      "cell_type": "code",
      "execution_count": null,
      "metadata": {
        "colab": {
          "base_uri": "https://localhost:8080/"
        },
        "id": "qF28libICU-4",
        "outputId": "995d906b-8e80-4268-976d-18f41c83243d"
      },
      "outputs": [],
      "source": [
        "%%time\n",
        "# Create and train a multinomial naive bayes classifier (MultinomialNB)\n",
        "bayes = MultinomialNB()\n",
        "bayes.fit(X, y)"
      ]
    },
    {
      "cell_type": "markdown",
      "metadata": {
        "id": "AyjC9mSvCU-4"
      },
      "source": [
        "**How long did each take to train?** How much faster were some compared to others?"
      ]
    },
    {
      "cell_type": "markdown",
      "metadata": {
        "id": "tpDITBsiCU-4"
      },
      "source": [
        "## Use our models\n",
        "\n",
        "Now that we've trained our models, **they can try to predict whether some content is positive or negative**.\n",
        "\n",
        "### Preparing the data\n",
        "\n",
        "**Add a few more sentences below.** They should be a mix of positive and negative. They can be boring, they can be exciting, they can be short, they can be long."
      ]
    },
    {
      "cell_type": "code",
      "execution_count": null,
      "metadata": {
        "colab": {
          "base_uri": "https://localhost:8080/",
          "height": 328
        },
        "id": "Pez-PXfHCU-5",
        "outputId": "ebec3eee-c21a-4daf-8bf3-322e46e0f102"
      },
      "outputs": [],
      "source": [
        "# Create some test data\n",
        "\n",
        "pd.set_option(\"display.max_colwidth\", 200)\n",
        "\n",
        "unknown = pd.DataFrame({'content': [\n",
        "    \"I love love love love this kitten\",\n",
        "    \"I hate hate hate hate this keyboard\",\n",
        "    \"I'm not sure how I feel about toast\",\n",
        "    \"Did you see the baseball game yesterday?\",\n",
        "    \"The package was delivered late and the contents were broken\",\n",
        "    \"Trashy television shows are some of my favorites\",\n",
        "    \"I'm seeing a Kubrick film tomorrow, I hear not so great things about it.\",\n",
        "    \"I find chirping birds irritating, but I know I'm not the only one\",\n",
        "    \"I don't like you\"\n",
        "]})\n",
        "unknown"
      ]
    },
    {
      "cell_type": "markdown",
      "metadata": {
        "id": "mKxzw1UvCU-5"
      },
      "source": [
        "First we need to **vectorizer** our sentences into numbers, so the algorithm can understand them.\n",
        "\n",
        "Our algorithm only knows **certain words.** Run `vectorizer.get_feature_names()` to show you the list of the words it knows."
      ]
    },
    {
      "cell_type": "code",
      "execution_count": null,
      "metadata": {
        "colab": {
          "base_uri": "https://localhost:8080/"
        },
        "id": "hZOcoQLQCU-5",
        "outputId": "30b64a34-c2d3-4821-819e-a998433e000e"
      },
      "outputs": [],
      "source": [
        "print(vectorizer.get_feature_names_out())"
      ]
    },
    {
      "cell_type": "markdown",
      "metadata": {
        "id": "L4g11QI4CU-5"
      },
      "source": [
        "Usually when we use the vectorizer, we write code like this:\n",
        "    \n",
        "```python\n",
        "vectors = vectorizer.fit_transform(....)\n",
        "```\n",
        "\n",
        "Which both learns all the words **and** counts them. In this case **we already have the list of words we know, we only want to count them.** So instead of `.fit_transform`, we just use `.transform`:\n",
        "\n",
        "```python\n",
        "unknown_vectors = vectorizer.transform(unknown.content)\n",
        "unknown_words_df = ......\n",
        "```\n",
        "\n",
        "Finish making your `unknown_words_df` in the cell below."
      ]
    },
    {
      "cell_type": "code",
      "execution_count": null,
      "metadata": {
        "colab": {
          "base_uri": "https://localhost:8080/",
          "height": 377
        },
        "id": "QEokpabWCU-5",
        "outputId": "f2bce01e-3583-4405-ed79-60daf3d4e020"
      },
      "outputs": [],
      "source": [
        "# Put it through the vectoriser\n",
        "\n",
        "# transform, not fit_transform, because we already learned all our words\n",
        "unknown_vectors = vectorizer.transform(unknown.content)\n",
        "unknown_words_df = pd.DataFrame(unknown_vectors.toarray(), columns=vectorizer.get_feature_names_out())\n",
        "unknown_words_df"
      ]
    },
    {
      "cell_type": "markdown",
      "metadata": {
        "id": "LgHvR8MeCU-6"
      },
      "source": [
        "Confirm `unknown_words_df` is 11 rows and 2,000 columns."
      ]
    },
    {
      "cell_type": "code",
      "execution_count": null,
      "metadata": {
        "colab": {
          "base_uri": "https://localhost:8080/"
        },
        "id": "gmB3Yp-FCU-6",
        "outputId": "f6b424eb-a75a-4869-f93a-1a85adb4e68a"
      },
      "outputs": [],
      "source": [
        "unknown_words_df.shape"
      ]
    },
    {
      "cell_type": "markdown",
      "metadata": {
        "id": "FPiEB-63CU-6"
      },
      "source": [
        "### Predicting with our models\n",
        "\n",
        "To make a prediction for each of our sentences, you can use `.predict` with each of our models. For example, it would look like this for linear regression:\n",
        "\n",
        "```python\n",
        "unknown['pred_logreg'] = logreg.predict(unknown_words_df)\n",
        "```\n",
        "\n",
        "To add the prediction for logistic regression, you'd run similar `.predict` code, which will give you a `0` (negative) or a `1` (positive). A difference between the two is that for logistic regression, you can **also ask for the probability that the sentence is in the `1` category** instead of just simply the category. To do that, you use this code:\n",
        "\n",
        "```python\n",
        "unknown['pred_logreg_prob'] = linreg.predict_proba(unknown_words_df)[:,1]\n",
        "```\n",
        "\n",
        "**Add new columns for each of the models you trained.** If the model has a `.predict_proba`, add that as a column as well.\n",
        "\n",
        "* **Tip:** Tab is helpful for knowing whether `.predict_proba` is an option.\n",
        "* **Tip:** Don't forget the `[:,1]` after `.predict_proba`, it means \"give me the probability for category `1`"
      ]
    },
    {
      "cell_type": "code",
      "execution_count": null,
      "metadata": {
        "id": "IFnr_4KKCU-6"
      },
      "outputs": [],
      "source": [
        "# Predict using all our models.\n",
        "\n",
        "# Logistic Regression predictions + probabilities\n",
        "unknown['pred_logreg'] = logreg.predict(unknown_words_df)\n",
        "unknown['pred_logreg_proba'] = logreg.predict_proba(unknown_words_df)[:,1]\n",
        "\n",
        "# Random forest predictions + probabilities\n",
        "unknown['pred_forest'] = forest.predict(unknown_words_df)\n",
        "unknown['pred_forest_proba'] = forest.predict_proba(unknown_words_df)[:,1]\n",
        "\n",
        "# SVC predictions\n",
        "unknown['pred_svc'] = svc.predict(unknown_words_df)\n",
        "\n",
        "# Bayes predictions + probabilities\n",
        "unknown['pred_bayes'] = bayes.predict(unknown_words_df)\n",
        "unknown['pred_bayes_proba'] = bayes.predict_proba(unknown_words_df)[:,1]"
      ]
    },
    {
      "cell_type": "code",
      "execution_count": null,
      "metadata": {
        "colab": {
          "base_uri": "https://localhost:8080/"
        },
        "id": "Kjy_i8IRFecb",
        "outputId": "4f74052e-9600-46c0-cf46-26106e1c8688"
      },
      "outputs": [],
      "source": [
        "import math\n",
        "\n",
        "def sigmoid(x):\n",
        "  return 1 / (1 + math.exp(-x))\n",
        "\n",
        "for index, row in unknown_words_df.iterrows() :\n",
        "  val = 0\n",
        "  myList = []\n",
        "\n",
        "  for i, f in enumerate(vectorizer.get_feature_names_out()) :\n",
        "    if logreg.coef_[0][i] * row[f] != 0 :\n",
        "      myList.append( (logreg.coef_[0][i] * row[f], f) )\n",
        "\n",
        "  myList.sort()\n",
        "\n",
        "  print(myList[0])\n",
        "  print(myList[-1])\n",
        "\n",
        "  print(myList)\n"
      ]
    },
    {
      "cell_type": "code",
      "execution_count": null,
      "metadata": {
        "colab": {
          "base_uri": "https://localhost:8080/"
        },
        "id": "Q9XiLENCHSRk",
        "outputId": "9e8b535d-5b59-446b-b7c5-f825b8c5a452"
      },
      "outputs": [],
      "source": [
        "print(logreg.intercept_  )"
      ]
    },
    {
      "cell_type": "code",
      "execution_count": null,
      "metadata": {
        "colab": {
          "base_uri": "https://localhost:8080/",
          "height": 345
        },
        "id": "qKM93IdRCU-7",
        "outputId": "8f8648a6-facc-476c-f942-c09b93caac12"
      },
      "outputs": [],
      "source": [
        "unknown"
      ]
    },
    {
      "cell_type": "markdown",
      "metadata": {
        "id": "RhCK6QeWCU-7"
      },
      "source": [
        "### Questions"
      ]
    },
    {
      "cell_type": "markdown",
      "metadata": {
        "id": "IK-Y2WqECU-7"
      },
      "source": [
        "* What do the numbers mean? What's the difference between a 0 and a 1? A 0.5? Negative numbers?\n",
        "* Were there any sentences where the classifiers seemed to disagree about? How do you feel about the amount they disagree?\n",
        "* What's the difference between using a 0/1 to talk about sentiment compared to 0-1? When might you use one compared to another?\n",
        "* What's the difference between the linear regression model and the other models we're using? Why might it fit or not fit?\n",
        "* Between 0-1, what range do you think counts as \"negative,\" \"positive\" and \"neutral\"?\n",
        "* Does the variation in scores reflect the variation you would see among people? Or is it better or worse?"
      ]
    },
    {
      "cell_type": "markdown",
      "metadata": {
        "id": "Kf8unW1LCU-7"
      },
      "source": [
        "## Testing our models\n",
        "\n",
        "We can actually see **which model performs the best!** Remember how we trained our models on tweets? We can ask each model about each tweet, and see if it gets the right answer."
      ]
    },
    {
      "cell_type": "code",
      "execution_count": null,
      "metadata": {
        "colab": {
          "base_uri": "https://localhost:8080/",
          "height": 204
        },
        "id": "OL7VfpeDCU-8",
        "outputId": "5d820914-e1b2-4232-83e0-2f10d5cba1eb"
      },
      "outputs": [],
      "source": [
        "df.head()"
      ]
    },
    {
      "cell_type": "markdown",
      "metadata": {
        "id": "FUUB6OHkCU-8"
      },
      "source": [
        "Our original dataframe is a list of many, many tweets. We turned this into `X` - vectorized words - and `y` - whether the tweet is negative or positive.\n",
        "\n",
        "Before we used `.fit(X, y)` to train on all of our data. Instead, **we can test our models** by doing a test/train split and see if the predictions match the actual labels."
      ]
    },
    {
      "cell_type": "code",
      "execution_count": null,
      "metadata": {
        "id": "Yko5lJ9aCU-8"
      },
      "outputs": [],
      "source": [
        "from sklearn.model_selection import train_test_split\n",
        "\n",
        "X_train, X_test, y_train, y_test = train_test_split(X, y)"
      ]
    },
    {
      "cell_type": "code",
      "execution_count": null,
      "metadata": {
        "colab": {
          "background_save": true,
          "base_uri": "https://localhost:8080/"
        },
        "id": "mQMUud7XCU-8",
        "outputId": "22bedb3c-8dba-4e20-9f69-7e87c8955b59"
      },
      "outputs": [],
      "source": [
        "%%time\n",
        "\n",
        "print(\"Training logistic regression\")\n",
        "logreg.fit(X_train, y_train)\n",
        "\n",
        "print(\"Training random forest\")\n",
        "forest.fit(X_train, y_train)\n",
        "\n",
        "print(\"Training SVC\")\n",
        "svc.fit(X_train, y_train)\n",
        "\n",
        "print(\"Training Naive Bayes\")\n",
        "bayes.fit(X_train, y_train)"
      ]
    },
    {
      "cell_type": "markdown",
      "metadata": {
        "id": "kjchdmiuCU-8"
      },
      "source": [
        "### Confusion matrices\n",
        "\n",
        "To see how well they did, we'll use a [\"confusion matrix\"](https://en.wikipedia.org/wiki/Confusion_matrix) for each one. I think confusion matrices are called that because they are confusing."
      ]
    },
    {
      "cell_type": "code",
      "execution_count": null,
      "metadata": {
        "colab": {
          "background_save": true
        },
        "id": "8qxr32woCU-9"
      },
      "outputs": [],
      "source": [
        "from sklearn.metrics import confusion_matrix"
      ]
    },
    {
      "cell_type": "markdown",
      "metadata": {
        "id": "FyUiQtabCU-9"
      },
      "source": [
        "#### Logistic Regression"
      ]
    },
    {
      "cell_type": "code",
      "execution_count": null,
      "metadata": {
        "colab": {
          "background_save": true,
          "base_uri": "https://localhost:8080/",
          "height": 111
        },
        "id": "TIpuEE8NCU-9",
        "outputId": "247ef1fd-0e68-4ea6-b93a-27a73cdde5f4"
      },
      "outputs": [],
      "source": [
        "y_true = y_test\n",
        "y_pred = logreg.predict(X_test)\n",
        "matrix = confusion_matrix(y_true, y_pred)\n",
        "\n",
        "label_names = pd.Series(['negative', 'positive'])\n",
        "pd.DataFrame(matrix,\n",
        "     columns='Predicted ' + label_names,\n",
        "     index='Is ' + label_names)"
      ]
    },
    {
      "cell_type": "markdown",
      "metadata": {
        "id": "q3f0-yRcCU-9"
      },
      "source": [
        "#### Random forest"
      ]
    },
    {
      "cell_type": "code",
      "execution_count": null,
      "metadata": {
        "colab": {
          "background_save": true,
          "base_uri": "https://localhost:8080/",
          "height": 111
        },
        "id": "3qZhWfgQCU-9",
        "outputId": "8a55559e-4df6-4e42-b593-dc1a9157e032"
      },
      "outputs": [],
      "source": [
        "y_true = y_test\n",
        "y_pred = forest.predict(X_test)\n",
        "matrix = confusion_matrix(y_true, y_pred)\n",
        "\n",
        "label_names = pd.Series(['negative', 'positive'])\n",
        "pd.DataFrame(matrix,\n",
        "     columns='Predicted ' + label_names,\n",
        "     index='Is ' + label_names)"
      ]
    },
    {
      "cell_type": "markdown",
      "metadata": {
        "id": "YRWLX23aCU-9"
      },
      "source": [
        "#### SVC"
      ]
    },
    {
      "cell_type": "code",
      "execution_count": null,
      "metadata": {
        "colab": {
          "background_save": true,
          "base_uri": "https://localhost:8080/",
          "height": 111
        },
        "id": "z4cYw0kyCU-9",
        "outputId": "678c29e7-9090-4316-fac7-9d21e891610e"
      },
      "outputs": [],
      "source": [
        "y_true = y_test\n",
        "y_pred = svc.predict(X_test)\n",
        "matrix = confusion_matrix(y_true, y_pred)\n",
        "\n",
        "label_names = pd.Series(['negative', 'positive'])\n",
        "pd.DataFrame(matrix,\n",
        "     columns='Predicted ' + label_names,\n",
        "     index='Is ' + label_names)"
      ]
    },
    {
      "cell_type": "markdown",
      "metadata": {
        "id": "VSRcj3fjCU--"
      },
      "source": [
        "#### Multinomial Naive Bayes"
      ]
    },
    {
      "cell_type": "code",
      "execution_count": null,
      "metadata": {
        "colab": {
          "background_save": true,
          "base_uri": "https://localhost:8080/",
          "height": 111
        },
        "id": "SmcGYDtmCU--",
        "outputId": "75a291bb-1d5e-446d-cd83-a8a82a911e9a"
      },
      "outputs": [],
      "source": [
        "y_true = y_test\n",
        "y_pred = bayes.predict(X_test)\n",
        "matrix = confusion_matrix(y_true, y_pred)\n",
        "\n",
        "label_names = pd.Series(['negative', 'positive'])\n",
        "pd.DataFrame(matrix,\n",
        "     columns='Predicted ' + label_names,\n",
        "     index='Is ' + label_names)"
      ]
    },
    {
      "cell_type": "markdown",
      "metadata": {
        "id": "q-jRDNbkCU--"
      },
      "source": [
        "### Percentage-based confusion matrices\n",
        "\n",
        "Those are kind of irritating in that they're just numbers. Let's try percentages instead"
      ]
    },
    {
      "cell_type": "markdown",
      "metadata": {
        "id": "5MMpc9yYCU--"
      },
      "source": [
        "#### Logisitic"
      ]
    },
    {
      "cell_type": "code",
      "execution_count": null,
      "metadata": {
        "colab": {
          "background_save": true,
          "base_uri": "https://localhost:8080/",
          "height": 111
        },
        "id": "_AEmoyAuCU--",
        "outputId": "84397b83-d83b-45e9-aad9-a0f87bbaa90b"
      },
      "outputs": [],
      "source": [
        "y_true = y_test\n",
        "y_pred = logreg.predict(X_test)\n",
        "matrix = confusion_matrix(y_true, y_pred)\n",
        "\n",
        "label_names = pd.Series(['negative', 'positive'])\n",
        "pd.DataFrame(matrix,\n",
        "     columns='Predicted ' + label_names,\n",
        "     index='Is ' + label_names).div(matrix.sum(axis=1), axis=0)"
      ]
    },
    {
      "cell_type": "markdown",
      "metadata": {
        "id": "KdZmXHOOCU--"
      },
      "source": [
        "#### Logistic regression"
      ]
    },
    {
      "cell_type": "code",
      "execution_count": null,
      "metadata": {
        "colab": {
          "background_save": true,
          "base_uri": "https://localhost:8080/",
          "height": 111
        },
        "id": "FvwM2ZIqCU--",
        "outputId": "8e043f10-7509-45d2-98a2-1305d12552b4"
      },
      "outputs": [],
      "source": [
        "y_true = y_test\n",
        "y_pred = logreg.predict(X_test)\n",
        "matrix = confusion_matrix(y_true, y_pred)\n",
        "\n",
        "label_names = pd.Series(['negative', 'positive'])\n",
        "pd.DataFrame(matrix,\n",
        "     columns='Predicted ' + label_names,\n",
        "     index='Is ' + label_names).div(matrix.sum(axis=1), axis=0)"
      ]
    },
    {
      "cell_type": "markdown",
      "metadata": {
        "id": "NQSBA3pfCU-_"
      },
      "source": [
        "#### Random forest"
      ]
    },
    {
      "cell_type": "code",
      "execution_count": null,
      "metadata": {
        "colab": {
          "background_save": true,
          "base_uri": "https://localhost:8080/",
          "height": 111
        },
        "id": "Es5bk__rCU-_",
        "outputId": "6aad95be-7731-485c-b5b6-521d8ebed41d"
      },
      "outputs": [],
      "source": [
        "y_true = y_test\n",
        "y_pred = forest.predict(X_test)\n",
        "matrix = confusion_matrix(y_true, y_pred)\n",
        "\n",
        "label_names = pd.Series(['negative', 'positive'])\n",
        "pd.DataFrame(matrix,\n",
        "     columns='Predicted ' + label_names,\n",
        "     index='Is ' + label_names).div(matrix.sum(axis=1), axis=0)"
      ]
    },
    {
      "cell_type": "markdown",
      "metadata": {
        "id": "4IMeP6JvCU-_"
      },
      "source": [
        "#### SVC"
      ]
    },
    {
      "cell_type": "code",
      "execution_count": null,
      "metadata": {
        "colab": {
          "background_save": true,
          "base_uri": "https://localhost:8080/",
          "height": 111
        },
        "id": "V3GHNDi-CU-_",
        "outputId": "a1ad32f9-b91b-4492-bb9c-857d6ad5f6b7"
      },
      "outputs": [],
      "source": [
        "y_true = y_test\n",
        "y_pred = svc.predict(X_test)\n",
        "matrix = confusion_matrix(y_true, y_pred)\n",
        "\n",
        "label_names = pd.Series(['negative', 'positive'])\n",
        "pd.DataFrame(matrix,\n",
        "     columns='Predicted ' + label_names,\n",
        "     index='Is ' + label_names).div(matrix.sum(axis=1), axis=0)"
      ]
    },
    {
      "cell_type": "markdown",
      "metadata": {
        "id": "vhlBt--ICU-_"
      },
      "source": [
        "#### Multinomial Naive Bayes"
      ]
    },
    {
      "cell_type": "code",
      "execution_count": null,
      "metadata": {
        "colab": {
          "background_save": true,
          "base_uri": "https://localhost:8080/",
          "height": 111
        },
        "id": "nq6X6aztCU-_",
        "outputId": "349da0ec-9082-4bea-bcfa-a1afda081130"
      },
      "outputs": [],
      "source": [
        "y_true = y_test\n",
        "y_pred = bayes.predict(X_test)\n",
        "matrix = confusion_matrix(y_true, y_pred)\n",
        "\n",
        "label_names = pd.Series(['negative', 'positive'])\n",
        "pd.DataFrame(matrix,\n",
        "     columns='Predicted ' + label_names,\n",
        "     index='Is ' + label_names).div(matrix.sum(axis=1), axis=0)"
      ]
    },
    {
      "cell_type": "markdown",
      "metadata": {
        "id": "XK5w8qbVCU_A"
      },
      "source": [
        "## Review\n",
        "\n",
        "If you find yourself unsatisfied with a tool, you can try to build your own! This is exactly what we tried to do, using the **Sentiment140 dataset** and several machine learning algorithms.\n",
        "\n",
        "Sentiment140 is a database of tweets that come pre-labeled with positive or negative sentiment, assigned automatically by presence of a `:)` or `:(`.  Our first step was using a **vectorizer** to convert the tweets into numbers a computer could understand.\n",
        "\n",
        "After that, we build four different **models** using different machine learning algorithms. Each one was fed a list of each tweet's **features** - the words - and each tweet's **label** - the sentiment - in the hopes that later it could predict labels if given a new tweets. This process of teaching the algorithm is called **training**.\n",
        "\n",
        "In order to test our algorithms, we split our data into sections - **train** and **test** datasts. You teach the algorithm with the first group, and then ask it for predictions on the second set. You can then compare its predictions to the right answers using a **confusion matrix**.\n",
        "\n",
        "Although **different algorithms took different amounts of time to train**, they all ended up with about 70-75% accuracy."
      ]
    },
    {
      "cell_type": "markdown",
      "metadata": {
        "id": "CjdEoI31CU_A"
      },
      "source": [
        "## Discussion topics\n",
        "\n",
        "* Which models performed the best? Were there big differences?\n",
        "* Do you think it's more important to be sensitive to negativity or positivity? Do we want more positive things incorrectly marked as negative, or more negative things marked as positive?\n",
        "* They all had very different training times. Which ones offer the best combination of performance and not making you wait around for an hour?\n",
        "* If you have a decent algorithm that trains more quickly, that could that mean about feature selection or the size of your training set? Why did we use `max_features=` and `df.sample`?\n",
        "* Is 75% accuracy good?\n",
        "* Do your feelings change if the performance is described as \"incorrect one out of every four times?\"\n",
        "* What would your accuracy be for a random guess?\n",
        "* How do you feel about sentiment analysis?\n",
        "* How do you feel about [this piece from the UpShot](https://www.nytimes.com/interactive/2017/02/28/upshot/trump-sounds-different-tone-in-first-address-to-congress.html) that uses [the Emotional Lexicon](http://saifmohammad.com/WebPages/NRC-Emotion-Lexicon.htm)?\n",
        "* What would you feel comfortable using our sentiment classifier for?"
      ]
    },
    {
      "cell_type": "markdown",
      "metadata": {
        "id": "b0seit1AS8VE"
      },
      "source": [
        "# Serving the model\n",
        "\n"
      ]
    },
    {
      "cell_type": "code",
      "execution_count": 1,
      "metadata": {
        "colab": {
          "background_save": true,
          "base_uri": "https://localhost:8080/"
        },
        "id": "dTKQwnZ2CU_A",
        "outputId": "1937c9dc-5279-4691-ae3a-c41c76811b5d"
      },
      "outputs": [
        {
          "name": "stdout",
          "output_type": "stream",
          "text": [
            "Requirement already satisfied: FastAPI in /usr/local/python/3.10.8/lib/python3.10/site-packages (0.104.0)\n",
            "Requirement already satisfied: anyio<4.0.0,>=3.7.1 in /usr/local/python/3.10.8/lib/python3.10/site-packages (from FastAPI) (3.7.1)\n",
            "Requirement already satisfied: pydantic!=1.8,!=1.8.1,!=2.0.0,!=2.0.1,!=2.1.0,<3.0.0,>=1.7.4 in /usr/local/python/3.10.8/lib/python3.10/site-packages (from FastAPI) (2.4.2)\n",
            "Requirement already satisfied: starlette<0.28.0,>=0.27.0 in /usr/local/python/3.10.8/lib/python3.10/site-packages (from FastAPI) (0.27.0)\n",
            "Requirement already satisfied: typing-extensions>=4.8.0 in /home/codespace/.local/lib/python3.10/site-packages (from FastAPI) (4.8.0)\n",
            "Requirement already satisfied: idna>=2.8 in /home/codespace/.local/lib/python3.10/site-packages (from anyio<4.0.0,>=3.7.1->FastAPI) (3.4)\n",
            "Requirement already satisfied: sniffio>=1.1 in /home/codespace/.local/lib/python3.10/site-packages (from anyio<4.0.0,>=3.7.1->FastAPI) (1.3.0)\n",
            "Requirement already satisfied: exceptiongroup in /home/codespace/.local/lib/python3.10/site-packages (from anyio<4.0.0,>=3.7.1->FastAPI) (1.1.3)\n",
            "Requirement already satisfied: annotated-types>=0.4.0 in /usr/local/python/3.10.8/lib/python3.10/site-packages (from pydantic!=1.8,!=1.8.1,!=2.0.0,!=2.0.1,!=2.1.0,<3.0.0,>=1.7.4->FastAPI) (0.6.0)\n",
            "Requirement already satisfied: pydantic-core==2.10.1 in /usr/local/python/3.10.8/lib/python3.10/site-packages (from pydantic!=1.8,!=1.8.1,!=2.0.0,!=2.0.1,!=2.1.0,<3.0.0,>=1.7.4->FastAPI) (2.10.1)\n",
            "\n",
            "\u001b[1m[\u001b[0m\u001b[34;49mnotice\u001b[0m\u001b[1;39;49m]\u001b[0m\u001b[39;49m A new release of pip is available: \u001b[0m\u001b[31;49m23.3\u001b[0m\u001b[39;49m -> \u001b[0m\u001b[32;49m23.3.1\u001b[0m\n",
            "\u001b[1m[\u001b[0m\u001b[34;49mnotice\u001b[0m\u001b[1;39;49m]\u001b[0m\u001b[39;49m To update, run: \u001b[0m\u001b[32;49mpython -m pip install --upgrade pip\u001b[0m\n",
            "Requirement already satisfied: pydantic in /usr/local/python/3.10.8/lib/python3.10/site-packages (2.4.2)\n",
            "Requirement already satisfied: annotated-types>=0.4.0 in /usr/local/python/3.10.8/lib/python3.10/site-packages (from pydantic) (0.6.0)\n",
            "Requirement already satisfied: pydantic-core==2.10.1 in /usr/local/python/3.10.8/lib/python3.10/site-packages (from pydantic) (2.10.1)\n",
            "Requirement already satisfied: typing-extensions>=4.6.1 in /home/codespace/.local/lib/python3.10/site-packages (from pydantic) (4.8.0)\n",
            "\n",
            "\u001b[1m[\u001b[0m\u001b[34;49mnotice\u001b[0m\u001b[1;39;49m]\u001b[0m\u001b[39;49m A new release of pip is available: \u001b[0m\u001b[31;49m23.3\u001b[0m\u001b[39;49m -> \u001b[0m\u001b[32;49m23.3.1\u001b[0m\n",
            "\u001b[1m[\u001b[0m\u001b[34;49mnotice\u001b[0m\u001b[1;39;49m]\u001b[0m\u001b[39;49m To update, run: \u001b[0m\u001b[32;49mpython -m pip install --upgrade pip\u001b[0m\n"
          ]
        }
      ],
      "source": [
        "!pip install FastAPI\n",
        "!pip install pydantic\n",
        "\n",
        "from fastapi import FastAPI\n",
        "from fastapi.middleware.cors import CORSMiddleware\n",
        "from pydantic import BaseModel\n",
        "\n",
        "\n",
        "class textField(BaseModel) :\n",
        "  text: str\n",
        "\n",
        "\n",
        "app = FastAPI()\n",
        "\n",
        "\n",
        "app.add_middleware(\n",
        "    CORSMiddleware,\n",
        "    allow_origins=[\"*\"],\n",
        "    allow_credentials=True,\n",
        "    allow_methods=[\"*\"],\n",
        "    allow_headers=[\"*\"],\n",
        ")\n",
        "\n",
        "# @app.get('/')                # Just in case if you want to handle a GET request\n",
        "# def index():\n",
        "#     return {'message': 'This is the homepage of the API '}\n"
      ]
    },
    {
      "cell_type": "markdown",
      "metadata": {},
      "source": [
        "## TODO: Implement a function that handles inference requests"
      ]
    },
    {
      "cell_type": "code",
      "execution_count": 16,
      "metadata": {},
      "outputs": [
        {
          "ename": "TabError",
          "evalue": "inconsistent use of tabs and spaces in indentation (2003376617.py, line 19)",
          "output_type": "error",
          "traceback": [
            "\u001b[0;36m  Cell \u001b[0;32mIn[16], line 19\u001b[0;36m\u001b[0m\n\u001b[0;31m    for i, f in enumerate(vectorizer.get_feature_names_out()) :\u001b[0m\n\u001b[0m    ^\u001b[0m\n\u001b[0;31mTabError\u001b[0m\u001b[0;31m:\u001b[0m inconsistent use of tabs and spaces in indentation\n"
          ]
        }
      ],
      "source": [
        "@app.post('/infer')\n",
        "def doInference(text: textField):\n",
        "    received = text.model_dump()\n",
        "\n",
        "    inputText = received[\"text\"]\n",
        "\n",
        "    unknown_vectors = vectorizer.transform([inputText])\n",
        "    unknown_words_df = pd.DataFrame(unknown_vectors.toarray(), columns=vectorizer.get_feature_names_out())\n",
        "\n",
        "    res = {}\n",
        "\n",
        "    res['text'] = inputText\n",
        "    res['pred'] = int(logreg.predict(unknown_words_df)[0])\n",
        "    res['pred_prob'] = float(logreg.predict_proba(unknown_words_df)[:,1][0])\n",
        "\n",
        "    importance = {}\n",
        "\n",
        "    for index, row in unknown_words_df.iterrows() :\n",
        "\t\tfor i, f in enumerate(vectorizer.get_feature_names_out()) :\n",
        "\t\t\tif logreg.coef_[0][i] * row[f] != 0 :\n",
        "\t\t\t\timportance[f] = logreg.coef_[0][i]\n",
        "\n",
        "    res['importance'] = importance\n",
        "\n",
        "    return res"
      ]
    },
    {
      "cell_type": "markdown",
      "metadata": {},
      "source": [
        "## Run the server"
      ]
    },
    {
      "cell_type": "code",
      "execution_count": null,
      "metadata": {
        "colab": {
          "base_uri": "https://localhost:8080/"
        },
        "id": "oREpEWOeHgKz",
        "outputId": "8c753713-1d4e-4a74-ee85-56701d5702d2"
      },
      "outputs": [],
      "source": [
        "!pip install colabcode\n",
        "\n",
        "from colabcode import ColabCode\n",
        "server = ColabCode(port=10000, code=False)\n",
        "\n",
        "server.run_app(app=app)"
      ]
    }
  ],
  "metadata": {
    "colab": {
      "include_colab_link": true,
      "provenance": []
    },
    "kernelspec": {
      "display_name": "Python 3",
      "language": "python",
      "name": "python3"
    },
    "language_info": {
      "codemirror_mode": {
        "name": "ipython",
        "version": 3
      },
      "file_extension": ".py",
      "mimetype": "text/x-python",
      "name": "python",
      "nbconvert_exporter": "python",
      "pygments_lexer": "ipython3",
      "version": "3.10.8"
    },
    "toc": {
      "base_numbering": 1,
      "nav_menu": {},
      "number_sections": true,
      "sideBar": true,
      "skip_h1_title": false,
      "title_cell": "Table of Contents",
      "title_sidebar": "Contents",
      "toc_cell": false,
      "toc_position": {},
      "toc_section_display": true,
      "toc_window_display": false
    }
  },
  "nbformat": 4,
  "nbformat_minor": 0
}
